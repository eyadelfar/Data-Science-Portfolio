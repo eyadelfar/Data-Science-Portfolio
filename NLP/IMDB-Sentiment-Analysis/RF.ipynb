{
 "cells": [
  {
   "cell_type": "code",
   "execution_count": 1,
   "id": "10e72bfa",
   "metadata": {},
   "outputs": [],
   "source": [
    "import os\n",
    "from nltk.corpus import stopwords\n",
    "import re\n",
    "import numpy as np\n",
    "import pandas as pd\n",
    "import seaborn as sns\n",
    "import matplotlib.pyplot as plt\n",
    "import nltk\n",
    "from sklearn.feature_extraction.text import CountVectorizer , TfidfVectorizer\n",
    "from sklearn.preprocessing import LabelBinarizer\n",
    "from nltk.corpus import stopwords\n",
    "from nltk.stem.porter import PorterStemmer\n",
    "from wordcloud import WordCloud,STOPWORDS\n",
    "from nltk.stem import WordNetLemmatizer ,LancasterStemmer\n",
    "from nltk.tokenize import word_tokenize,sent_tokenize\n",
    "from bs4 import BeautifulSoup\n",
    "import spacy\n",
    "import re,string,unicodedata\n",
    "from nltk.tokenize.toktok import ToktokTokenizer\n",
    "from sklearn.linear_model import LogisticRegression,SGDClassifier\n",
    "from sklearn.model_selection import train_test_split\n",
    "from sklearn.naive_bayes import MultinomialNB\n",
    "from sklearn.svm import SVC\n",
    "from textblob import TextBlob , Word\n",
    "from sklearn.metrics import classification_report,confusion_matrix,accuracy_score ,f1_score\n",
    "from sklearn.ensemble import RandomForestClassifier\n",
    "from sklearn.model_selection import GridSearchCV\n",
    "\n",
    "\n",
    "import os\n",
    "import warnings\n",
    "warnings.filterwarnings('ignore')"
   ]
  },
  {
   "cell_type": "code",
   "execution_count": 2,
   "id": "2f230bdc",
   "metadata": {},
   "outputs": [
    {
     "name": "stdout",
     "output_type": "stream",
     "text": [
      "(50000, 2)\n"
     ]
    },
    {
     "data": {
      "text/html": [
       "<div>\n",
       "<style scoped>\n",
       "    .dataframe tbody tr th:only-of-type {\n",
       "        vertical-align: middle;\n",
       "    }\n",
       "\n",
       "    .dataframe tbody tr th {\n",
       "        vertical-align: top;\n",
       "    }\n",
       "\n",
       "    .dataframe thead th {\n",
       "        text-align: right;\n",
       "    }\n",
       "</style>\n",
       "<table border=\"1\" class=\"dataframe\">\n",
       "  <thead>\n",
       "    <tr style=\"text-align: right;\">\n",
       "      <th></th>\n",
       "      <th>review</th>\n",
       "      <th>sentiment</th>\n",
       "    </tr>\n",
       "  </thead>\n",
       "  <tbody>\n",
       "    <tr>\n",
       "      <th>0</th>\n",
       "      <td>One of the other reviewers has mentioned that ...</td>\n",
       "      <td>positive</td>\n",
       "    </tr>\n",
       "    <tr>\n",
       "      <th>1</th>\n",
       "      <td>A wonderful little production. &lt;br /&gt;&lt;br /&gt;The...</td>\n",
       "      <td>positive</td>\n",
       "    </tr>\n",
       "    <tr>\n",
       "      <th>2</th>\n",
       "      <td>I thought this was a wonderful way to spend ti...</td>\n",
       "      <td>positive</td>\n",
       "    </tr>\n",
       "    <tr>\n",
       "      <th>3</th>\n",
       "      <td>Basically there's a family where a little boy ...</td>\n",
       "      <td>negative</td>\n",
       "    </tr>\n",
       "    <tr>\n",
       "      <th>4</th>\n",
       "      <td>Petter Mattei's \"Love in the Time of Money\" is...</td>\n",
       "      <td>positive</td>\n",
       "    </tr>\n",
       "  </tbody>\n",
       "</table>\n",
       "</div>"
      ],
      "text/plain": [
       "                                              review sentiment\n",
       "0  One of the other reviewers has mentioned that ...  positive\n",
       "1  A wonderful little production. <br /><br />The...  positive\n",
       "2  I thought this was a wonderful way to spend ti...  positive\n",
       "3  Basically there's a family where a little boy ...  negative\n",
       "4  Petter Mattei's \"Love in the Time of Money\" is...  positive"
      ]
     },
     "execution_count": 2,
     "metadata": {},
     "output_type": "execute_result"
    }
   ],
   "source": [
    "df=pd.read_csv('IMDB Dataset.csv')\n",
    "print(df.shape)\n",
    "df.head(5)"
   ]
  },
  {
   "cell_type": "code",
   "execution_count": 3,
   "id": "b803c9d0",
   "metadata": {},
   "outputs": [],
   "source": [
    "def process(review):\n",
    "    # review without HTML tags\n",
    "    review = BeautifulSoup(review).get_text()\n",
    "    # review without punctuation and numbers\n",
    "    review = re.sub(\"[^a-zA-Z]\",' ',review)\n",
    "    # converting into lowercase and splitting to eliminate stopwords\n",
    "    review = review.lower()\n",
    "    review = review.split()\n",
    "    # review without stopwords\n",
    "    swords = set(stopwords.words(\"english\")) \n",
    "    review = [w for w in review if w not in swords]               \n",
    "    # splitted paragraph space return\n",
    "    return(\" \".join(review))"
   ]
  },
  {
   "cell_type": "code",
   "execution_count": 4,
   "id": "5190012a",
   "metadata": {},
   "outputs": [],
   "source": [
    "def lemma(data):\n",
    "    lemmatizer=WordNetLemmatizer()\n",
    "    out_data=\"\"\n",
    "    for words in data:\n",
    "        out_data+= lemmatizer.lemmatize(words)\n",
    "    return out_data\n",
    "\n",
    "df['review']=df['review'].apply(lambda z: lemma(z))"
   ]
  },
  {
   "cell_type": "code",
   "execution_count": 5,
   "id": "6c710eaa",
   "metadata": {},
   "outputs": [],
   "source": [
    "train_data = []\n",
    "for i in range(len(df[\"review\"])):        \n",
    "    train_data.append(process(df[\"review\"][i]))"
   ]
  },
  {
   "cell_type": "code",
   "execution_count": 6,
   "id": "fb78a751",
   "metadata": {},
   "outputs": [],
   "source": [
    "independent = train_data\n",
    "dependent = np.array(df[\"sentiment\"])\n",
    "dependent[dependent == 'positive'] = 1\n",
    "dependent[dependent == 'negative'] = 0\n",
    "\n",
    "train_x, test_x, y_train, y_test = train_test_split(independent,dependent, stratify = dependent ,test_size = 0.2, shuffle = True , random_state = 25)"
   ]
  },
  {
   "cell_type": "code",
   "execution_count": 7,
   "id": "d8487ad4",
   "metadata": {},
   "outputs": [
    {
     "name": "stdout",
     "output_type": "stream",
     "text": [
      "(40000, 15000) (10000, 15000)\n"
     ]
    }
   ],
   "source": [
    "vect = TfidfVectorizer(max_features = 15000 , ngram_range=(1,3))\n",
    "train_x = vect.fit_transform(train_x)\n",
    "test_x = vect.transform(test_x)\n",
    "print( train_x.shape , test_x.shape)"
   ]
  },
  {
   "cell_type": "code",
   "execution_count": 8,
   "id": "26e64ad4",
   "metadata": {},
   "outputs": [],
   "source": [
    "X_train = train_x.toarray()\n",
    "X_test = test_x.toarray()"
   ]
  },
  {
   "cell_type": "code",
   "execution_count": 9,
   "id": "84f46b7b",
   "metadata": {},
   "outputs": [],
   "source": [
    "y_train = y_train.astype('int')\n",
    "y_test = y_test.astype('int')"
   ]
  },
  {
   "cell_type": "code",
   "execution_count": 10,
   "id": "f830049b",
   "metadata": {},
   "outputs": [],
   "source": [
    "clf = RandomForestClassifier(n_estimators = 3 , random_state=44 , n_jobs=-1)\n",
    "clf.fit(X_train, y_train)\n",
    "y_pred = clf.predict(X_test)"
   ]
  },
  {
   "cell_type": "code",
   "execution_count": 11,
   "id": "4ffef59a",
   "metadata": {},
   "outputs": [
    {
     "name": "stdout",
     "output_type": "stream",
     "text": [
      "train score:  0.953725\n",
      "test score:  0.7349\n",
      "accuracy score:  0.7349\n",
      "F1 Score :  0.7348974523645172\n",
      "confusion matrix: \n",
      " [[3659 1341]\n",
      " [1310 3690]]\n"
     ]
    }
   ],
   "source": [
    "print('train score: ' ,clf.score(X_train, y_train))\n",
    "print('test score: ' ,clf.score(X_test, y_test))\n",
    "print('accuracy score: ' ,accuracy_score(y_pred, y_test))\n",
    "print('F1 Score : ',f1_score(y_test, y_pred, average='weighted'))\n",
    "print('confusion matrix: \\n' , confusion_matrix(y_test,y_pred))"
   ]
  },
  {
   "cell_type": "code",
   "execution_count": 12,
   "id": "eafb4ab9",
   "metadata": {},
   "outputs": [],
   "source": [
    "parameters = {\n",
    "    'n_estimators' : [3 , 5 , 10 , 15] ,\n",
    "    'max_depth' : [5,7,10],\n",
    "    'min_samples_split' :[25,50,100], \n",
    "    'n_jobs' : [-1]\n",
    "  }"
   ]
  },
  {
   "cell_type": "code",
   "execution_count": 13,
   "id": "541f413b",
   "metadata": {},
   "outputs": [],
   "source": [
    "clf2 = RandomForestClassifier()"
   ]
  },
  {
   "cell_type": "code",
   "execution_count": 15,
   "id": "41059b6c",
   "metadata": {},
   "outputs": [
    {
     "data": {
      "text/plain": [
       "GridSearchCV(estimator=RandomForestClassifier(),\n",
       "             param_grid={'max_depth': [5, 7, 10],\n",
       "                         'min_samples_split': [25, 50, 100],\n",
       "                         'n_estimators': [3, 5, 10, 15], 'n_jobs': [-1]})"
      ]
     },
     "execution_count": 15,
     "metadata": {},
     "output_type": "execute_result"
    }
   ],
   "source": [
    "grid = GridSearchCV(clf2, param_grid=parameters)\n",
    "grid.fit(X_train,y_train)"
   ]
  },
  {
   "cell_type": "code",
   "execution_count": 16,
   "id": "febccd59",
   "metadata": {},
   "outputs": [
    {
     "name": "stdout",
     "output_type": "stream",
     "text": [
      "Best estimator :  RandomForestClassifier(max_depth=10, min_samples_split=25, n_estimators=15,\n",
      "                       n_jobs=-1)\n",
      "Best params: {'max_depth': 10, 'min_samples_split': 25, 'n_estimators': 15, 'n_jobs': -1}\n"
     ]
    }
   ],
   "source": [
    "print('Best estimator : ' , grid.best_estimator_)\n",
    "\n",
    "print('Best params:' , grid.best_params_)"
   ]
  },
  {
   "cell_type": "code",
   "execution_count": 17,
   "id": "7f40efc6",
   "metadata": {},
   "outputs": [
    {
     "name": "stdout",
     "output_type": "stream",
     "text": [
      "grid train score:  0.787325\n",
      "grid test score:  0.7623\n",
      "grid accuracy score:  0.7623\n",
      "grid f1 score:  0.7793967517401393\n"
     ]
    }
   ],
   "source": [
    "ygrid = grid.predict(X_test)\n",
    "print('grid train score: ' , grid.score(X_train,y_train))\n",
    "print('grid test score: ' , grid.score(X_test,y_test))\n",
    "print('grid accuracy score: ' , accuracy_score(ygrid,y_test))\n",
    "print('grid f1 score: ' , f1_score(ygrid,y_test))"
   ]
  },
  {
   "cell_type": "code",
   "execution_count": 19,
   "id": "f05811c3",
   "metadata": {},
   "outputs": [],
   "source": [
    "import pickle as pk\n",
    "pk.dump(grid , open('saved file2.sav','wb'))\n"
   ]
  },
  {
   "cell_type": "code",
   "execution_count": null,
   "id": "c2bf741a",
   "metadata": {},
   "outputs": [],
   "source": []
  }
 ],
 "metadata": {
  "kernelspec": {
   "display_name": "Python 3 (ipykernel)",
   "language": "python",
   "name": "python3"
  },
  "language_info": {
   "codemirror_mode": {
    "name": "ipython",
    "version": 3
   },
   "file_extension": ".py",
   "mimetype": "text/x-python",
   "name": "python",
   "nbconvert_exporter": "python",
   "pygments_lexer": "ipython3",
   "version": "3.9.12"
  }
 },
 "nbformat": 4,
 "nbformat_minor": 5
}
